{
 "cells": [
  {
   "cell_type": "code",
   "execution_count": 3,
   "metadata": {},
   "outputs": [],
   "source": [
    "import pandas as pd\n",
    "import numpy as np"
   ]
  },
  {
   "cell_type": "markdown",
   "metadata": {},
   "source": [
    "### Простейший алгоритм обучения перцептрона "
   ]
  },
  {
   "cell_type": "code",
   "execution_count": 7,
   "metadata": {
    "collapsed": true
   },
   "outputs": [
    {
     "name": "stdout",
     "output_type": "stream",
     "text": [
      "[1.  1.  0.3]\n",
      "[1.  1.  0.3]\n",
      "[ 0.   0.3 -0.5]\n",
      "[ 1.   1.3 -0.2]\n",
      "[ 1.   1.3 -0.2]\n",
      "[ 0.   0.6 -1. ]\n",
      "[ 1.   1.6 -0.7]\n",
      "[ 1.   1.6 -0.7]\n",
      "[ 0.   0.9 -1.5]\n",
      "[ 1.   1.9 -1.2]\n",
      "[ 1.   1.9 -1.2]\n",
      "[ 0.   1.2 -2. ]\n",
      "[ 1.   2.2 -1.7]\n",
      "[ 1.   2.2 -1.7]\n",
      "[ 0.   1.5 -2.5]\n",
      "[ 1.   2.5 -2.2]\n",
      "[ 2.   2.9 -1.7]\n",
      "[ 0.   1.5 -3.3]\n",
      "[ 1.   2.5 -3. ]\n",
      "[ 2.   2.9 -2.5]\n",
      "[ 0.   1.5 -4.1]\n",
      "[ 1.   2.5 -3.8]\n",
      "[ 2.   2.9 -3.3]\n",
      "[ 1.   2.2 -4.1]\n",
      "[ 1.   2.2 -4.1]\n",
      "[ 2.   2.6 -3.6]\n",
      "[ 2.   2.6 -3.6]\n",
      "[ 0.   0.6 -4.2]\n",
      "[ 2.   1.4 -3.2]\n",
      "[ 2.   1.4 -3.2]\n",
      "[ 1.   0.4 -3.5]\n",
      "[ 2.   0.8 -3. ]\n",
      "[ 2.   0.8 -3. ]\n",
      "[ 2.   0.8 -3. ]\n",
      "[ 3.   1.2 -2.5]\n",
      "[ 2.   0.5 -3.3]\n",
      "[ 2.   0.5 -3.3]\n",
      "[ 3.   0.9 -2.8]\n",
      "[ 2.   0.2 -3.6]\n",
      "[ 2.   0.2 -3.6]\n",
      "[ 3.   0.6 -3.1]\n",
      "[ 3.   0.6 -3.1]\n",
      "[ 2.  -0.4 -3.4]\n",
      "[ 3.00000000e+00  3.33066907e-16 -2.90000000e+00]\n",
      "[ 3.00000000e+00  3.33066907e-16 -2.90000000e+00]\n",
      "[ 2.  -1.  -3.2]\n",
      "[ 3.  -0.6 -2.7]\n",
      "[ 3.  -0.6 -2.7]\n",
      "[ 3.  -0.6 -2.7]\n",
      "[ 3.  -0.6 -2.7]\n",
      "[ 3.  -0.6 -2.7]\n",
      "[ 3.  -0.6 -2.7]\n",
      "[ 3.  -0.6 -2.7]\n",
      "[ 3.  -0.6 -2.7]\n",
      "[ 3.  -0.6 -2.7]\n",
      "[ 3.  -0.6 -2.7]\n",
      "[ 3.  -0.6 -2.7]\n",
      "[ 3.  -0.6 -2.7]\n",
      "[ 3.  -0.6 -2.7]\n",
      "[ 3.  -0.6 -2.7]\n"
     ]
    }
   ],
   "source": [
    "x = np.array([[1, 1, 0.3], [1, 0.4, 0.5], [1, 0.7, 0.8]])\n",
    "y = np.array([1, 1, 0])\n",
    "w = np.array([0., 0., 0.])\n",
    "\n",
    "\n",
    "def predict(expl, weight):\n",
    "    return int(expl.dot(weight.T))\n",
    "\n",
    "\n",
    "for _ in range(20):\n",
    "    for i in range(x.shape[0]):\n",
    "        p = predict(x[i], w)\n",
    "        if p != y[i]:\n",
    "            w = w + (y[i] - p) * x[i]\n",
    "        print(w)"
   ]
  },
  {
   "cell_type": "markdown",
   "metadata": {},
   "source": [
    "### NumPy tricks"
   ]
  },
  {
   "cell_type": "code",
   "execution_count": 72,
   "metadata": {},
   "outputs": [
    {
     "ename": "ValueError",
     "evalue": "all the input array dimensions except for the concatenation axis must match exactly",
     "traceback": [
      "\u001b[1;31m---------------------------------------------------------------------------\u001b[0m",
      "\u001b[1;31mValueError\u001b[0m                                Traceback (most recent call last)",
      "\u001b[1;32m<ipython-input-72-0b13f0b95cbd>\u001b[0m in \u001b[0;36m<module>\u001b[1;34m\u001b[0m\n\u001b[0;32m      2\u001b[0m \u001b[0mb\u001b[0m \u001b[1;33m=\u001b[0m \u001b[0mnp\u001b[0m\u001b[1;33m.\u001b[0m\u001b[0marray\u001b[0m\u001b[1;33m(\u001b[0m\u001b[1;33m[\u001b[0m\u001b[1;33m[\u001b[0m\u001b[1;36m50\u001b[0m\u001b[1;33m,\u001b[0m \u001b[1;36m60\u001b[0m\u001b[1;33m]\u001b[0m\u001b[1;33m]\u001b[0m\u001b[1;33m)\u001b[0m\u001b[1;33m\u001b[0m\u001b[1;33m\u001b[0m\u001b[0m\n\u001b[0;32m      3\u001b[0m \u001b[1;33m\u001b[0m\u001b[0m\n\u001b[1;32m----> 4\u001b[1;33m \u001b[0md\u001b[0m \u001b[1;33m=\u001b[0m \u001b[0mnp\u001b[0m\u001b[1;33m.\u001b[0m\u001b[0mconcatenate\u001b[0m\u001b[1;33m(\u001b[0m\u001b[1;33m(\u001b[0m\u001b[0ma\u001b[0m\u001b[1;33m,\u001b[0m \u001b[0mb\u001b[0m\u001b[1;33m)\u001b[0m\u001b[1;33m,\u001b[0m \u001b[0maxis\u001b[0m\u001b[1;33m=\u001b[0m\u001b[1;36m1\u001b[0m\u001b[1;33m)\u001b[0m\u001b[1;33m\u001b[0m\u001b[1;33m\u001b[0m\u001b[0m\n\u001b[0m",
      "\u001b[1;31mValueError\u001b[0m: all the input array dimensions except for the concatenation axis must match exactly"
     ],
     "output_type": "error"
    }
   ],
   "source": [
    "a = np.array([[1, 2, 32, 2, 5], [3, 4, 2, 6, 2]])\n",
    "b = np.array([[50, 60]])\n",
    "\n",
    "d = np.concatenate((a, b), axis=1)"
   ]
  },
  {
   "cell_type": "code",
   "execution_count": 71,
   "metadata": {},
   "outputs": [
    {
     "data": {
      "text/plain": [
       "array([[ 1,  2, 32,  2,  5, 50],\n",
       "       [ 3,  4,  2,  6,  2, 60]])"
      ]
     },
     "execution_count": 71,
     "metadata": {},
     "output_type": "execute_result"
    }
   ],
   "source": [
    "d"
   ]
  },
  {
   "cell_type": "markdown",
   "metadata": {},
   "source": [
    "#### Умножение векторов"
   ]
  },
  {
   "cell_type": "code",
   "execution_count": 32,
   "metadata": {},
   "outputs": [
    {
     "data": {
      "text/plain": [
       "array([0, 2, 0, 8, 0])"
      ]
     },
     "execution_count": 32,
     "metadata": {},
     "output_type": "execute_result"
    }
   ],
   "source": [
    "a = np.array([1, 2, 3, 4, 5])\n",
    "b = np.array([0, 1, 0, 2, 0])\n",
    "\n",
    "a * b"
   ]
  },
  {
   "cell_type": "code",
   "execution_count": 31,
   "metadata": {},
   "outputs": [
    {
     "data": {
      "text/plain": [
       "array([0, 2, 0, 8, 0])"
      ]
     },
     "execution_count": 31,
     "metadata": {},
     "output_type": "execute_result"
    }
   ],
   "source": [
    "a = np.array([1, 2, 3, 4, 5])\n",
    "b = np.array([0, 1, 0, 2, 0])\n",
    "\n",
    "a * b.T"
   ]
  },
  {
   "cell_type": "markdown",
   "metadata": {},
   "source": [
    "#### Умножение матриц"
   ]
  },
  {
   "cell_type": "code",
   "execution_count": 21,
   "metadata": {},
   "outputs": [
    {
     "data": {
      "text/plain": [
       "array([6, 8, 1, 1])"
      ]
     },
     "execution_count": 21,
     "metadata": {},
     "output_type": "execute_result"
    }
   ],
   "source": [
    "a = np.array([1, 0, 1, 0])\n",
    "\n",
    "b = np.array([[1, 2, 0, 1], \n",
    "              [3, 4, 0, 1], \n",
    "              [5, 6, 1, 0], \n",
    "              [7, 8, 3, 2]])\n",
    "\n",
    "a.dot(b)"
   ]
  },
  {
   "cell_type": "code",
   "execution_count": 47,
   "metadata": {},
   "outputs": [
    {
     "data": {
      "text/plain": [
       "array([[10.5]])"
      ]
     },
     "execution_count": 47,
     "metadata": {},
     "output_type": "execute_result"
    }
   ],
   "source": [
    "w = np.array([[1, 2, 3, 4, 5]]).T\n",
    "x = np.array([[0, 1, 0, 2, 0]]).T\n",
    "b = 0.5\n",
    "\n",
    "w.T.dot(x) + b"
   ]
  },
  {
   "cell_type": "markdown",
   "metadata": {},
   "source": [
    "#### Умножение векторов"
   ]
  },
  {
   "cell_type": "code",
   "execution_count": 54,
   "metadata": {},
   "outputs": [
    {
     "data": {
      "text/plain": [
       "10"
      ]
     },
     "execution_count": 54,
     "metadata": {},
     "output_type": "execute_result"
    }
   ],
   "source": [
    "a = np.array([1, 2, 3, 4, 5])\n",
    "b = np.array([0, 1, 0, 2, 0])\n",
    "\n",
    "a.dot(b)"
   ]
  },
  {
   "cell_type": "code",
   "execution_count": 55,
   "metadata": {},
   "outputs": [
    {
     "data": {
      "text/plain": [
       "(5,)"
      ]
     },
     "execution_count": 55,
     "metadata": {},
     "output_type": "execute_result"
    }
   ],
   "source": [
    "a.shape"
   ]
  },
  {
   "cell_type": "code",
   "execution_count": 49,
   "metadata": {},
   "outputs": [
    {
     "data": {
      "text/plain": [
       "10"
      ]
     },
     "execution_count": 49,
     "metadata": {},
     "output_type": "execute_result"
    }
   ],
   "source": [
    "a.dot(b.T)"
   ]
  },
  {
   "cell_type": "code",
   "execution_count": 52,
   "metadata": {},
   "outputs": [
    {
     "data": {
      "text/plain": [
       "10"
      ]
     },
     "execution_count": 52,
     "metadata": {},
     "output_type": "execute_result"
    }
   ],
   "source": [
    "a.T.dot(b.T)"
   ]
  },
  {
   "cell_type": "markdown",
   "metadata": {},
   "source": [
    "#### Транспонирование"
   ]
  },
  {
   "cell_type": "code",
   "execution_count": 33,
   "metadata": {},
   "outputs": [
    {
     "data": {
      "text/plain": [
       "array([[1, 3, 5, 7],\n",
       "       [2, 4, 6, 8],\n",
       "       [0, 0, 1, 3],\n",
       "       [1, 1, 0, 2]])"
      ]
     },
     "execution_count": 33,
     "metadata": {},
     "output_type": "execute_result"
    }
   ],
   "source": [
    "b = np.array([[1, 2, 0, 1], \n",
    "              [3, 4, 0, 1], \n",
    "              [5, 6, 1, 0], \n",
    "              [7, 8, 3, 2]])\n",
    "\n",
    "b.T"
   ]
  },
  {
   "cell_type": "code",
   "execution_count": 39,
   "metadata": {},
   "outputs": [
    {
     "data": {
      "text/plain": [
       "array([[1],\n",
       "       [2],\n",
       "       [3],\n",
       "       [4],\n",
       "       [5]])"
      ]
     },
     "execution_count": 39,
     "metadata": {},
     "output_type": "execute_result"
    }
   ],
   "source": [
    "a = np.array([[1, 2, 3, 4, 5]])\n",
    "a.T"
   ]
  },
  {
   "cell_type": "markdown",
   "metadata": {},
   "source": [
    "### Разные функции"
   ]
  },
  {
   "cell_type": "code",
   "execution_count": null,
   "metadata": {
    "collapsed": true
   },
   "outputs": [],
   "source": [
    "## Определим разные полезные функции\n",
    "\n",
    "def sigmoid(x):\n",
    "    \"\"\"сигмоидальная функция, работает и с числами, и с векторами (поэлементно)\"\"\"\n",
    "    return 1 / (1 + np.exp(-x))\n",
    "\n",
    "def sigmoid_prime(x):\n",
    "    \"\"\"производная сигмоидальной функции, работает и с числами, и с векторами (поэлементно)\"\"\"\n",
    "    return sigmoid(x) * (1 - sigmoid(x))"
   ]
  },
  {
   "cell_type": "markdown",
   "metadata": {},
   "source": [
    "### Free"
   ]
  },
  {
   "cell_type": "code",
   "execution_count": 18,
   "metadata": {},
   "outputs": [
    {
     "data": {
      "text/plain": [
       "array([[ True,  True,  True,  True,  True,  True],\n",
       "       [ True,  True,  True,  True,  True,  True],\n",
       "       [ True,  True,  True,  True,  True,  True],\n",
       "       [ True,  True,  True,  True,  True,  True]])"
      ]
     },
     "execution_count": 18,
     "metadata": {},
     "output_type": "execute_result"
    }
   ],
   "source": [
    "A = np.array([[1, 2, 3], [5, 6, 7], [9, 10, 11], [4, 8, 12]])\n",
    "\n",
    "B = np.array([[1, 5, 9]]).T\n",
    "\n",
    "C = np.array([[1, 2, 3, 4, 5, 6]])\n",
    "\n",
    "D = np.array([3, 4, 1]).T\n",
    "\n",
    "(A.dot(B)).dot(C) == A.dot(B.dot(C))"
   ]
  },
  {
   "cell_type": "code",
   "execution_count": 19,
   "metadata": {},
   "outputs": [
    {
     "data": {
      "text/plain": [
       "array([[ -1, -67,  43],\n",
       "       [-73,  17,  19],\n",
       "       [ 73, -42,  15]])"
      ]
     },
     "execution_count": 19,
     "metadata": {},
     "output_type": "execute_result"
    }
   ],
   "source": [
    "F1 = np.array([[-6, 2, 5], [-4, 1, -5], [-3, -2, 8]])\n",
    "F2 = np.array([[5, 2, -5], [-8, -10, 4], [9, -7, 1]])\n",
    "F1.dot(F2)"
   ]
  },
  {
   "cell_type": "code",
   "execution_count": 20,
   "metadata": {},
   "outputs": [
    {
     "data": {
      "text/plain": [
       "array([[-23,  22, -25],\n",
       "       [ 76, -34,  42],\n",
       "       [-29,   9,  88]])"
      ]
     },
     "execution_count": 20,
     "metadata": {},
     "output_type": "execute_result"
    }
   ],
   "source": [
    "F2.dot(F1)"
   ]
  },
  {
   "cell_type": "code",
   "execution_count": null,
   "metadata": {},
   "outputs": [],
   "source": []
  }
 ],
 "metadata": {
  "kernelspec": {
   "display_name": "Python 3",
   "language": "python",
   "name": "python3"
  },
  "language_info": {
   "codemirror_mode": {
    "name": "ipython",
    "version": 3
   },
   "file_extension": ".py",
   "mimetype": "text/x-python",
   "name": "python",
   "nbconvert_exporter": "python",
   "pygments_lexer": "ipython3",
   "version": "3.6.7"
  }
 },
 "nbformat": 4,
 "nbformat_minor": 2
}
