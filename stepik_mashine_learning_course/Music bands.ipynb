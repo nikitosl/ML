{
 "cells": [
  {
   "cell_type": "code",
   "execution_count": 3,
   "metadata": {},
   "outputs": [],
   "source": [
    "import pandas as pd\n",
    "import numpy as np\n",
    "import seaborn as sns\n",
    "from sklearn.tree import DecisionTreeClassifier\n",
    "from sklearn.metrics import precision_score, recall_score\n",
    "from sklearn.model_selection import train_test_split\n",
    "\n",
    "import matplotlib.pyplot as plt"
   ]
  },
  {
   "cell_type": "code",
   "execution_count": 4,
   "metadata": {},
   "outputs": [],
   "source": [
    "lyric_df = pd.read_csv('data/lyrics/lyrics.csv', index_col=0)"
   ]
  },
  {
   "cell_type": "code",
   "execution_count": 5,
   "metadata": {
    "scrolled": true
   },
   "outputs": [
    {
     "data": {
      "text/plain": [
       "song          2\n",
       "year          0\n",
       "artist        0\n",
       "genre         0\n",
       "lyrics    95680\n",
       "dtype: int64"
      ]
     },
     "execution_count": 5,
     "metadata": {},
     "output_type": "execute_result"
    }
   ],
   "source": [
    "lyric_df.isna().sum()"
   ]
  },
  {
   "cell_type": "code",
   "execution_count": 6,
   "metadata": {},
   "outputs": [],
   "source": [
    "lyric_df = lyric_df.dropna(axis=0)"
   ]
  },
  {
   "cell_type": "code",
   "execution_count": 7,
   "metadata": {},
   "outputs": [],
   "source": [
    "lyric_df['length'] = lyric_df['lyrics'].astype('str').apply(len)\n",
    "lyric_df['commas'] = lyric_df['lyrics'].astype('str').apply(lambda x: x.count(','))\n",
    "lyric_df['exclamations'] = lyric_df['lyrics'].astype('str').apply(lambda x: x.count('!'))\n",
    "lyric_df['colons'] = lyric_df['lyrics'].astype('str').apply(lambda x: x.count(':'))\n",
    "lyric_df['hyphens'] = lyric_df['lyrics'].astype('str').apply(lambda x: x.count('-'))"
   ]
  },
  {
   "cell_type": "code",
   "execution_count": 8,
   "metadata": {},
   "outputs": [
    {
     "data": {
      "text/html": [
       "<div>\n",
       "<style scoped>\n",
       "    .dataframe tbody tr th:only-of-type {\n",
       "        vertical-align: middle;\n",
       "    }\n",
       "\n",
       "    .dataframe tbody tr th {\n",
       "        vertical-align: top;\n",
       "    }\n",
       "\n",
       "    .dataframe thead th {\n",
       "        text-align: right;\n",
       "    }\n",
       "</style>\n",
       "<table border=\"1\" class=\"dataframe\">\n",
       "  <thead>\n",
       "    <tr style=\"text-align: right;\">\n",
       "      <th></th>\n",
       "      <th>song</th>\n",
       "      <th>year</th>\n",
       "      <th>artist</th>\n",
       "      <th>genre</th>\n",
       "      <th>lyrics</th>\n",
       "      <th>length</th>\n",
       "      <th>commas</th>\n",
       "      <th>exclamations</th>\n",
       "      <th>colons</th>\n",
       "      <th>hyphens</th>\n",
       "    </tr>\n",
       "    <tr>\n",
       "      <th>index</th>\n",
       "      <th></th>\n",
       "      <th></th>\n",
       "      <th></th>\n",
       "      <th></th>\n",
       "      <th></th>\n",
       "      <th></th>\n",
       "      <th></th>\n",
       "      <th></th>\n",
       "      <th></th>\n",
       "      <th></th>\n",
       "    </tr>\n",
       "  </thead>\n",
       "  <tbody>\n",
       "    <tr>\n",
       "      <th>166921</th>\n",
       "      <td>0-0</td>\n",
       "      <td>2006</td>\n",
       "      <td>fear-factory</td>\n",
       "      <td>Metal</td>\n",
       "      <td>Long live the new flesh!\\nWhere evil dwells\\nN...</td>\n",
       "      <td>1180</td>\n",
       "      <td>8</td>\n",
       "      <td>3</td>\n",
       "      <td>0</td>\n",
       "      <td>2</td>\n",
       "    </tr>\n",
       "    <tr>\n",
       "      <th>1811</th>\n",
       "      <td>0-0-0</td>\n",
       "      <td>2007</td>\n",
       "      <td>earthtone9</td>\n",
       "      <td>Metal</td>\n",
       "      <td>thousand rays\\nthousand leaves\\nthousand breat...</td>\n",
       "      <td>505</td>\n",
       "      <td>0</td>\n",
       "      <td>0</td>\n",
       "      <td>0</td>\n",
       "      <td>0</td>\n",
       "    </tr>\n",
       "    <tr>\n",
       "      <th>166947</th>\n",
       "      <td>0-0-where-evil-dwells</td>\n",
       "      <td>2008</td>\n",
       "      <td>fear-factory</td>\n",
       "      <td>Metal</td>\n",
       "      <td>Long live the new flesh\\nWhere evil dwells\\nNo...</td>\n",
       "      <td>1120</td>\n",
       "      <td>29</td>\n",
       "      <td>0</td>\n",
       "      <td>0</td>\n",
       "      <td>1</td>\n",
       "    </tr>\n",
       "    <tr>\n",
       "      <th>50361</th>\n",
       "      <td>0-71</td>\n",
       "      <td>2006</td>\n",
       "      <td>cash-roseanne</td>\n",
       "      <td>Not Available</td>\n",
       "      <td>no lyrics just 71 seconds of silence for each ...</td>\n",
       "      <td>72</td>\n",
       "      <td>0</td>\n",
       "      <td>0</td>\n",
       "      <td>0</td>\n",
       "      <td>0</td>\n",
       "    </tr>\n",
       "    <tr>\n",
       "      <th>258248</th>\n",
       "      <td>0-to-100</td>\n",
       "      <td>2014</td>\n",
       "      <td>drake</td>\n",
       "      <td>Hip-Hop</td>\n",
       "      <td>Fuck bein' on some chill shit\\nWe go 0 to 100 ...</td>\n",
       "      <td>4372</td>\n",
       "      <td>81</td>\n",
       "      <td>0</td>\n",
       "      <td>0</td>\n",
       "      <td>6</td>\n",
       "    </tr>\n",
       "  </tbody>\n",
       "</table>\n",
       "</div>"
      ],
      "text/plain": [
       "                         song  year         artist          genre  \\\n",
       "index                                                               \n",
       "166921                    0-0  2006   fear-factory          Metal   \n",
       "1811                    0-0-0  2007     earthtone9          Metal   \n",
       "166947  0-0-where-evil-dwells  2008   fear-factory          Metal   \n",
       "50361                    0-71  2006  cash-roseanne  Not Available   \n",
       "258248               0-to-100  2014          drake        Hip-Hop   \n",
       "\n",
       "                                                   lyrics  length  commas  \\\n",
       "index                                                                       \n",
       "166921  Long live the new flesh!\\nWhere evil dwells\\nN...    1180       8   \n",
       "1811    thousand rays\\nthousand leaves\\nthousand breat...     505       0   \n",
       "166947  Long live the new flesh\\nWhere evil dwells\\nNo...    1120      29   \n",
       "50361   no lyrics just 71 seconds of silence for each ...      72       0   \n",
       "258248  Fuck bein' on some chill shit\\nWe go 0 to 100 ...    4372      81   \n",
       "\n",
       "        exclamations  colons  hyphens  \n",
       "index                                  \n",
       "166921             3       0        2  \n",
       "1811               0       0        0  \n",
       "166947             0       0        1  \n",
       "50361              0       0        0  \n",
       "258248             0       0        6  "
      ]
     },
     "execution_count": 8,
     "metadata": {},
     "output_type": "execute_result"
    }
   ],
   "source": [
    "lyric_df.sort_values('song').head()"
   ]
  },
  {
   "cell_type": "code",
   "execution_count": 9,
   "metadata": {},
   "outputs": [],
   "source": [
    "X = lyric_df.drop(['song', 'genre', 'lyrics', 'artist'], axis=1)\n",
    "y = lyric_df[['artist']]\n",
    "X_train, X_test, y_train, y_test = train_test_split(X, y, test_size=0.33, random_state=42)"
   ]
  },
  {
   "cell_type": "code",
   "execution_count": 10,
   "metadata": {},
   "outputs": [
    {
     "data": {
      "text/plain": [
       "DecisionTreeClassifier(class_weight=None, criterion='entropy', max_depth=10,\n",
       "                       max_features=None, max_leaf_nodes=None,\n",
       "                       min_impurity_decrease=0.0, min_impurity_split=None,\n",
       "                       min_samples_leaf=1, min_samples_split=2,\n",
       "                       min_weight_fraction_leaf=0.0, presort=False,\n",
       "                       random_state=42, splitter='best')"
      ]
     },
     "execution_count": 10,
     "metadata": {},
     "output_type": "execute_result"
    }
   ],
   "source": [
    "clf = DecisionTreeClassifier(random_state=42, max_depth=10, criterion='entropy')\n",
    "clf.fit(X_train, y_train)"
   ]
  },
  {
   "cell_type": "code",
   "execution_count": 11,
   "metadata": {},
   "outputs": [],
   "source": [
    "y_predict = clf.predict(X_test)\n",
    "precision_sc = precision_score(y_test, y_predict, average='micro')\n",
    "recall_sc = recall_score(y_test, y_predict, average='micro')"
   ]
  },
  {
   "cell_type": "code",
   "execution_count": 12,
   "metadata": {},
   "outputs": [
    {
     "data": {
      "text/plain": [
       "0.023145832385976083"
      ]
     },
     "execution_count": 12,
     "metadata": {},
     "output_type": "execute_result"
    }
   ],
   "source": [
    "precision_sc"
   ]
  },
  {
   "cell_type": "code",
   "execution_count": 13,
   "metadata": {},
   "outputs": [
    {
     "data": {
      "text/plain": [
       "0.023145832385976083"
      ]
     },
     "execution_count": 13,
     "metadata": {},
     "output_type": "execute_result"
    }
   ],
   "source": [
    "recall_sc"
   ]
  },
  {
   "cell_type": "code",
   "execution_count": null,
   "metadata": {},
   "outputs": [],
   "source": []
  },
  {
   "cell_type": "code",
   "execution_count": null,
   "metadata": {},
   "outputs": [],
   "source": []
  },
  {
   "cell_type": "code",
   "execution_count": null,
   "metadata": {},
   "outputs": [],
   "source": []
  },
  {
   "cell_type": "code",
   "execution_count": null,
   "metadata": {},
   "outputs": [],
   "source": []
  }
 ],
 "metadata": {
  "kernelspec": {
   "display_name": "Python 3",
   "language": "python",
   "name": "python3"
  },
  "language_info": {
   "codemirror_mode": {
    "name": "ipython",
    "version": 3
   },
   "file_extension": ".py",
   "mimetype": "text/x-python",
   "name": "python",
   "nbconvert_exporter": "python",
   "pygments_lexer": "ipython3",
   "version": "3.7.1"
  }
 },
 "nbformat": 4,
 "nbformat_minor": 2
}
