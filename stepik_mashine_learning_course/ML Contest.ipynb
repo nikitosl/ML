{
 "cells": [
  {
   "cell_type": "code",
   "execution_count": 1,
   "metadata": {},
   "outputs": [],
   "source": [
    "import pandas as pd\n",
    "import numpy as np\n",
    "import seaborn as sns\n",
    "%matplotlib inline\n",
    "import matplotlib.pyplot as plt\n",
    "import datetime\n",
    "sns.set(rc={'figure.figsize': (12, 8)})\n"
   ]
  },
  {
   "cell_type": "code",
   "execution_count": 2,
   "metadata": {},
   "outputs": [],
   "source": [
    "event_df = pd.read_csv('data/contest_data/event_data_train.csv')\n",
    "submissions_df = pd.read_csv('data/contest_data/submissions_data_train.csv')\n",
    "event_df['date'] = pd.to_datetime(event_df.timestamp, unit='s').dt.date\n",
    "submissions_df['date'] = pd.to_datetime(submissions_df.timestamp, unit='s').dt.date\n",
    "\n"
   ]
  },
  {
   "cell_type": "markdown",
   "metadata": {
    "heading_collapsed": true
   },
   "source": [
    "# Подготовка данных"
   ]
  },
  {
   "cell_type": "code",
   "execution_count": 3,
   "metadata": {
    "hidden": true
   },
   "outputs": [
    {
     "data": {
      "text/plain": [
       "<matplotlib.axes._subplots.AxesSubplot at 0x11f837908>"
      ]
     },
     "execution_count": 3,
     "metadata": {},
     "output_type": "execute_result"
    },
    {
     "data": {
      "image/png": "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\n",
      "text/plain": [
       "<Figure size 432x288 with 1 Axes>"
      ]
     },
     "metadata": {
      "needs_background": "light"
     },
     "output_type": "display_data"
    }
   ],
   "source": [
    "# Распределение количества пользователей по времени\n",
    "event_df.groupby('date').user_id.nunique().plot()"
   ]
  },
  {
   "cell_type": "markdown",
   "metadata": {
    "hidden": true
   },
   "source": [
    "### Распределение пользователей и количества сданных задач"
   ]
  },
  {
   "cell_type": "code",
   "execution_count": 4,
   "metadata": {
    "hidden": true
   },
   "outputs": [
    {
     "data": {
      "text/plain": [
       "<matplotlib.axes._subplots.AxesSubplot at 0x11ef08e10>"
      ]
     },
     "execution_count": 4,
     "metadata": {},
     "output_type": "execute_result"
    },
    {
     "data": {
      "image/png": "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\n",
      "text/plain": [
       "<Figure size 432x288 with 1 Axes>"
      ]
     },
     "metadata": {
      "needs_background": "light"
     },
     "output_type": "display_data"
    }
   ],
   "source": [
    "# Потеряли много данных о пользователях, которые вообще не прошли ни одного задания!!!\n",
    "# event_df.loc[event_df.action == 'passed'].groupby('user_id').agg({'action': 'count'}).hist()\n",
    "# Правильный подход:\n",
    "event_data = event_df.pivot_table(index='user_id', \n",
    "                       columns='action', \n",
    "                       values='step_id', \n",
    "                       aggfunc='count', \n",
    "                       fill_value=0).reset_index()\n",
    "event_data.passed.hist()"
   ]
  },
  {
   "cell_type": "code",
   "execution_count": 5,
   "metadata": {
    "hidden": true
   },
   "outputs": [
    {
     "data": {
      "text/html": [
       "<div>\n",
       "<style scoped>\n",
       "    .dataframe tbody tr th:only-of-type {\n",
       "        vertical-align: middle;\n",
       "    }\n",
       "\n",
       "    .dataframe tbody tr th {\n",
       "        vertical-align: top;\n",
       "    }\n",
       "\n",
       "    .dataframe thead th {\n",
       "        text-align: right;\n",
       "    }\n",
       "</style>\n",
       "<table border=\"1\" class=\"dataframe\">\n",
       "  <thead>\n",
       "    <tr style=\"text-align: right;\">\n",
       "      <th>action</th>\n",
       "      <th>user_id</th>\n",
       "      <th>discovered</th>\n",
       "      <th>passed</th>\n",
       "      <th>started_attempt</th>\n",
       "      <th>viewed</th>\n",
       "    </tr>\n",
       "  </thead>\n",
       "  <tbody>\n",
       "    <tr>\n",
       "      <th>0</th>\n",
       "      <td>1</td>\n",
       "      <td>1</td>\n",
       "      <td>0</td>\n",
       "      <td>0</td>\n",
       "      <td>1</td>\n",
       "    </tr>\n",
       "    <tr>\n",
       "      <th>1</th>\n",
       "      <td>2</td>\n",
       "      <td>9</td>\n",
       "      <td>9</td>\n",
       "      <td>2</td>\n",
       "      <td>10</td>\n",
       "    </tr>\n",
       "    <tr>\n",
       "      <th>2</th>\n",
       "      <td>3</td>\n",
       "      <td>91</td>\n",
       "      <td>87</td>\n",
       "      <td>30</td>\n",
       "      <td>192</td>\n",
       "    </tr>\n",
       "    <tr>\n",
       "      <th>3</th>\n",
       "      <td>5</td>\n",
       "      <td>11</td>\n",
       "      <td>11</td>\n",
       "      <td>4</td>\n",
       "      <td>12</td>\n",
       "    </tr>\n",
       "    <tr>\n",
       "      <th>4</th>\n",
       "      <td>7</td>\n",
       "      <td>1</td>\n",
       "      <td>1</td>\n",
       "      <td>0</td>\n",
       "      <td>1</td>\n",
       "    </tr>\n",
       "  </tbody>\n",
       "</table>\n",
       "</div>"
      ],
      "text/plain": [
       "action  user_id  discovered  passed  started_attempt  viewed\n",
       "0             1           1       0                0       1\n",
       "1             2           9       9                2      10\n",
       "2             3          91      87               30     192\n",
       "3             5          11      11                4      12\n",
       "4             7           1       1                0       1"
      ]
     },
     "execution_count": 5,
     "metadata": {},
     "output_type": "execute_result"
    }
   ],
   "source": [
    "event_data.head()"
   ]
  },
  {
   "cell_type": "markdown",
   "metadata": {
    "hidden": true
   },
   "source": [
    "### Распределения корректных и некорректных сабмитов"
   ]
  },
  {
   "cell_type": "code",
   "execution_count": 6,
   "metadata": {
    "hidden": true
   },
   "outputs": [
    {
     "data": {
      "text/html": [
       "<div>\n",
       "<style scoped>\n",
       "    .dataframe tbody tr th:only-of-type {\n",
       "        vertical-align: middle;\n",
       "    }\n",
       "\n",
       "    .dataframe tbody tr th {\n",
       "        vertical-align: top;\n",
       "    }\n",
       "\n",
       "    .dataframe thead th {\n",
       "        text-align: right;\n",
       "    }\n",
       "</style>\n",
       "<table border=\"1\" class=\"dataframe\">\n",
       "  <thead>\n",
       "    <tr style=\"text-align: right;\">\n",
       "      <th>submission_status</th>\n",
       "      <th>user_id</th>\n",
       "      <th>correct</th>\n",
       "      <th>wrong</th>\n",
       "    </tr>\n",
       "  </thead>\n",
       "  <tbody>\n",
       "    <tr>\n",
       "      <th>0</th>\n",
       "      <td>2</td>\n",
       "      <td>2</td>\n",
       "      <td>0</td>\n",
       "    </tr>\n",
       "    <tr>\n",
       "      <th>1</th>\n",
       "      <td>3</td>\n",
       "      <td>29</td>\n",
       "      <td>23</td>\n",
       "    </tr>\n",
       "    <tr>\n",
       "      <th>2</th>\n",
       "      <td>5</td>\n",
       "      <td>2</td>\n",
       "      <td>2</td>\n",
       "    </tr>\n",
       "    <tr>\n",
       "      <th>3</th>\n",
       "      <td>8</td>\n",
       "      <td>9</td>\n",
       "      <td>21</td>\n",
       "    </tr>\n",
       "    <tr>\n",
       "      <th>4</th>\n",
       "      <td>14</td>\n",
       "      <td>0</td>\n",
       "      <td>1</td>\n",
       "    </tr>\n",
       "  </tbody>\n",
       "</table>\n",
       "</div>"
      ],
      "text/plain": [
       "submission_status  user_id  correct  wrong\n",
       "0                        2        2      0\n",
       "1                        3       29     23\n",
       "2                        5        2      2\n",
       "3                        8        9     21\n",
       "4                       14        0      1"
      ]
     },
     "execution_count": 6,
     "metadata": {},
     "output_type": "execute_result"
    }
   ],
   "source": [
    "submit_data = submissions_df.pivot_table(index='user_id',\n",
    "                             columns='submission_status',\n",
    "                             values='step_id',\n",
    "                             aggfunc='count',\n",
    "                             fill_value=0).reset_index()\n",
    "submit_data.head()"
   ]
  },
  {
   "cell_type": "markdown",
   "metadata": {
    "heading_collapsed": true
   },
   "source": [
    "# Определение фичи, слился человек или нет"
   ]
  },
  {
   "cell_type": "markdown",
   "metadata": {
    "hidden": true
   },
   "source": [
    "Чтобы определить, покинул студент курс или нет нужно посмотреть распредиление перерывов студентов по времени между решенными задачами"
   ]
  },
  {
   "cell_type": "code",
   "execution_count": 7,
   "metadata": {
    "hidden": true
   },
   "outputs": [
    {
     "data": {
      "text/plain": [
       "<matplotlib.axes._subplots.AxesSubplot at 0x11ef2fd30>"
      ]
     },
     "execution_count": 7,
     "metadata": {},
     "output_type": "execute_result"
    },
    {
     "data": {
      "image/png": "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\n",
      "text/plain": [
       "<Figure size 432x288 with 1 Axes>"
      ]
     },
     "metadata": {
      "needs_background": "light"
     },
     "output_type": "display_data"
    }
   ],
   "source": [
    "gap_time = event_df[['date', 'user_id', 'timestamp']] \\\n",
    "    .drop_duplicates(subset=['date', 'user_id']) \\\n",
    "    .groupby('user_id')['timestamp'].apply(list) \\\n",
    "    .apply(np.diff).values\n",
    "gap_time = pd.Series(np.concatenate(gap_time, axis=0)) / (60 * 60 * 24)\n",
    "gap_time[gap_time < 100].hist()"
   ]
  },
  {
   "cell_type": "markdown",
   "metadata": {
    "hidden": true
   },
   "source": [
    "90%, 95% всех перерывов между решениями, Таким образом в дальнейшем ииследовании будем считать, что пользователь ушел с курса, если с момента решения последней задачи прошло > 30 дней"
   ]
  },
  {
   "cell_type": "code",
   "execution_count": 8,
   "metadata": {
    "hidden": true
   },
   "outputs": [
    {
     "name": "stdout",
     "output_type": "stream",
     "text": [
      "18.325995370370403\n",
      "59.760440972222156\n"
     ]
    }
   ],
   "source": [
    "print(gap_time.quantile(0.90))\n",
    "print(gap_time.quantile(0.95))"
   ]
  },
  {
   "cell_type": "code",
   "execution_count": 9,
   "metadata": {
    "hidden": true
   },
   "outputs": [],
   "source": [
    "now = event_df.timestamp.max()\n",
    "time_gap = 30 * 24 * 60 * 60"
   ]
  },
  {
   "cell_type": "code",
   "execution_count": 10,
   "metadata": {
    "hidden": true
   },
   "outputs": [
    {
     "data": {
      "text/html": [
       "<div>\n",
       "<style scoped>\n",
       "    .dataframe tbody tr th:only-of-type {\n",
       "        vertical-align: middle;\n",
       "    }\n",
       "\n",
       "    .dataframe tbody tr th {\n",
       "        vertical-align: top;\n",
       "    }\n",
       "\n",
       "    .dataframe thead th {\n",
       "        text-align: right;\n",
       "    }\n",
       "</style>\n",
       "<table border=\"1\" class=\"dataframe\">\n",
       "  <thead>\n",
       "    <tr style=\"text-align: right;\">\n",
       "      <th></th>\n",
       "      <th>user_id</th>\n",
       "      <th>last_day</th>\n",
       "      <th>is_gone</th>\n",
       "    </tr>\n",
       "  </thead>\n",
       "  <tbody>\n",
       "    <tr>\n",
       "      <th>0</th>\n",
       "      <td>1</td>\n",
       "      <td>1472827464</td>\n",
       "      <td>True</td>\n",
       "    </tr>\n",
       "    <tr>\n",
       "      <th>1</th>\n",
       "      <td>2</td>\n",
       "      <td>1519226966</td>\n",
       "      <td>True</td>\n",
       "    </tr>\n",
       "    <tr>\n",
       "      <th>2</th>\n",
       "      <td>3</td>\n",
       "      <td>1444581588</td>\n",
       "      <td>True</td>\n",
       "    </tr>\n",
       "    <tr>\n",
       "      <th>3</th>\n",
       "      <td>5</td>\n",
       "      <td>1499859939</td>\n",
       "      <td>True</td>\n",
       "    </tr>\n",
       "    <tr>\n",
       "      <th>4</th>\n",
       "      <td>7</td>\n",
       "      <td>1521634660</td>\n",
       "      <td>True</td>\n",
       "    </tr>\n",
       "  </tbody>\n",
       "</table>\n",
       "</div>"
      ],
      "text/plain": [
       "   user_id    last_day  is_gone\n",
       "0        1  1472827464     True\n",
       "1        2  1519226966     True\n",
       "2        3  1444581588     True\n",
       "3        5  1499859939     True\n",
       "4        7  1521634660     True"
      ]
     },
     "execution_count": 10,
     "metadata": {},
     "output_type": "execute_result"
    }
   ],
   "source": [
    "drop_users_data = event_df.groupby('user_id', as_index=False) \\\n",
    "    .agg({'timestamp': 'max'}) \\\n",
    "    .rename(columns={'timestamp': 'last_day'})\n",
    "drop_users_data['is_gone'] = now - drop_users_data.last_day > time_gap\n",
    "drop_users_data.head()"
   ]
  },
  {
   "cell_type": "code",
   "execution_count": 11,
   "metadata": {
    "hidden": true,
    "scrolled": true
   },
   "outputs": [
    {
     "data": {
      "text/html": [
       "<div>\n",
       "<style scoped>\n",
       "    .dataframe tbody tr th:only-of-type {\n",
       "        vertical-align: middle;\n",
       "    }\n",
       "\n",
       "    .dataframe tbody tr th {\n",
       "        vertical-align: top;\n",
       "    }\n",
       "\n",
       "    .dataframe thead th {\n",
       "        text-align: right;\n",
       "    }\n",
       "</style>\n",
       "<table border=\"1\" class=\"dataframe\">\n",
       "  <thead>\n",
       "    <tr style=\"text-align: right;\">\n",
       "      <th></th>\n",
       "      <th>step_id</th>\n",
       "      <th>timestamp</th>\n",
       "      <th>action</th>\n",
       "      <th>user_id</th>\n",
       "      <th>date</th>\n",
       "    </tr>\n",
       "  </thead>\n",
       "  <tbody>\n",
       "    <tr>\n",
       "      <th>3480701</th>\n",
       "      <td>32815</td>\n",
       "      <td>1526772750</td>\n",
       "      <td>passed</td>\n",
       "      <td>5198</td>\n",
       "      <td>2018-05-19</td>\n",
       "    </tr>\n",
       "    <tr>\n",
       "      <th>3480699</th>\n",
       "      <td>32815</td>\n",
       "      <td>1526772750</td>\n",
       "      <td>viewed</td>\n",
       "      <td>5198</td>\n",
       "      <td>2018-05-19</td>\n",
       "    </tr>\n",
       "    <tr>\n",
       "      <th>3480702</th>\n",
       "      <td>33892</td>\n",
       "      <td>1526772811</td>\n",
       "      <td>viewed</td>\n",
       "      <td>18526</td>\n",
       "      <td>2018-05-19</td>\n",
       "    </tr>\n",
       "  </tbody>\n",
       "</table>\n",
       "</div>"
      ],
      "text/plain": [
       "         step_id   timestamp  action  user_id        date\n",
       "3480701    32815  1526772750  passed     5198  2018-05-19\n",
       "3480699    32815  1526772750  viewed     5198  2018-05-19\n",
       "3480702    33892  1526772811  viewed    18526  2018-05-19"
      ]
     },
     "execution_count": 11,
     "metadata": {},
     "output_type": "execute_result"
    }
   ],
   "source": [
    "event_df.sort_values('timestamp').tail(3)"
   ]
  },
  {
   "cell_type": "code",
   "execution_count": 12,
   "metadata": {
    "hidden": true
   },
   "outputs": [
    {
     "data": {
      "text/html": [
       "<div>\n",
       "<style scoped>\n",
       "    .dataframe tbody tr th:only-of-type {\n",
       "        vertical-align: middle;\n",
       "    }\n",
       "\n",
       "    .dataframe tbody tr th {\n",
       "        vertical-align: top;\n",
       "    }\n",
       "\n",
       "    .dataframe thead th {\n",
       "        text-align: right;\n",
       "    }\n",
       "</style>\n",
       "<table border=\"1\" class=\"dataframe\">\n",
       "  <thead>\n",
       "    <tr style=\"text-align: right;\">\n",
       "      <th>submission_status</th>\n",
       "      <th>user_id</th>\n",
       "      <th>correct</th>\n",
       "      <th>wrong</th>\n",
       "    </tr>\n",
       "  </thead>\n",
       "  <tbody>\n",
       "    <tr>\n",
       "      <th>0</th>\n",
       "      <td>2</td>\n",
       "      <td>2</td>\n",
       "      <td>0</td>\n",
       "    </tr>\n",
       "    <tr>\n",
       "      <th>1</th>\n",
       "      <td>3</td>\n",
       "      <td>29</td>\n",
       "      <td>23</td>\n",
       "    </tr>\n",
       "    <tr>\n",
       "      <th>2</th>\n",
       "      <td>5</td>\n",
       "      <td>2</td>\n",
       "      <td>2</td>\n",
       "    </tr>\n",
       "    <tr>\n",
       "      <th>3</th>\n",
       "      <td>8</td>\n",
       "      <td>9</td>\n",
       "      <td>21</td>\n",
       "    </tr>\n",
       "    <tr>\n",
       "      <th>4</th>\n",
       "      <td>14</td>\n",
       "      <td>0</td>\n",
       "      <td>1</td>\n",
       "    </tr>\n",
       "  </tbody>\n",
       "</table>\n",
       "</div>"
      ],
      "text/plain": [
       "submission_status  user_id  correct  wrong\n",
       "0                        2        2      0\n",
       "1                        3       29     23\n",
       "2                        5        2      2\n",
       "3                        8        9     21\n",
       "4                       14        0      1"
      ]
     },
     "execution_count": 12,
     "metadata": {},
     "output_type": "execute_result"
    }
   ],
   "source": [
    "submit_data.head()"
   ]
  },
  {
   "cell_type": "markdown",
   "metadata": {
    "heading_collapsed": true
   },
   "source": [
    "# Собираем в табличку данные по юзерам"
   ]
  },
  {
   "cell_type": "code",
<<<<<<< HEAD
   "execution_count": 13,
=======
   "execution_count": 14,
>>>>>>> bad5e92811da5d8f2f78e30411383e6285ca9a5b
   "metadata": {
    "hidden": true
   },
   "outputs": [],
   "source": [
    "users_data = drop_users_data.merge(event_data, how='outer')"
   ]
  },
  {
   "cell_type": "code",
<<<<<<< HEAD
   "execution_count": 14,
=======
   "execution_count": 17,
>>>>>>> bad5e92811da5d8f2f78e30411383e6285ca9a5b
   "metadata": {
    "hidden": true
   },
   "outputs": [],
   "source": [
    "users_data = users_data.merge(submit_data, how='outer')"
   ]
  },
  {
   "cell_type": "code",
<<<<<<< HEAD
   "execution_count": 15,
=======
   "execution_count": 18,
>>>>>>> bad5e92811da5d8f2f78e30411383e6285ca9a5b
   "metadata": {
    "hidden": true
   },
   "outputs": [],
   "source": [
    "days_count_data = event_df.groupby('user_id').date.nunique().to_frame().reset_index().rename(columns={'date': 'amount_days'})\n",
    "users_data = users_data.merge(days_count_data, on='user_id', how='left')"
   ]
  },
  {
   "cell_type": "code",
<<<<<<< HEAD
   "execution_count": 16,
=======
   "execution_count": 19,
>>>>>>> bad5e92811da5d8f2f78e30411383e6285ca9a5b
   "metadata": {
    "hidden": true
   },
   "outputs": [],
   "source": [
    "users_data['passed_course'] = users_data.passed > 170"
   ]
  },
  {
   "cell_type": "code",
<<<<<<< HEAD
   "execution_count": 17,
=======
   "execution_count": 20,
>>>>>>> bad5e92811da5d8f2f78e30411383e6285ca9a5b
   "metadata": {
    "hidden": true
   },
   "outputs": [
    {
     "data": {
      "text/plain": [
       "passed_course\n",
       "False    17809\n",
       "True      1425\n",
       "Name: user_id, dtype: int64"
      ]
     },
     "execution_count": 17,
     "metadata": {},
     "output_type": "execute_result"
    }
   ],
   "source": [
    "users_data.groupby('passed_course').user_id.count()"
   ]
  },
  {
   "cell_type": "markdown",
   "metadata": {
    "hidden": true
   },
   "source": [
    "Процент усешно прошедших курс"
   ]
  },
  {
   "cell_type": "code",
<<<<<<< HEAD
   "execution_count": 18,
=======
   "execution_count": 21,
>>>>>>> bad5e92811da5d8f2f78e30411383e6285ca9a5b
   "metadata": {
    "hidden": true
   },
   "outputs": [
    {
     "data": {
      "text/plain": [
       "7.408755329104711"
      ]
     },
     "execution_count": 18,
     "metadata": {},
     "output_type": "execute_result"
    }
   ],
   "source": [
    "100 * 1425 / users_data.user_id.nunique()"
   ]
  },
  {
   "cell_type": "code",
<<<<<<< HEAD
   "execution_count": 19,
=======
   "execution_count": 22,
>>>>>>> bad5e92811da5d8f2f78e30411383e6285ca9a5b
   "metadata": {
    "hidden": true
   },
   "outputs": [],
   "source": [
    "# Никаких юзеров не потерядли!\n",
    "assert users_data.user_id.nunique() == event_df.user_id.nunique(), 'Всё хуйня, давай по новой'"
   ]
  },
  {
   "cell_type": "code",
<<<<<<< HEAD
   "execution_count": 34,
=======
   "execution_count": 23,
>>>>>>> bad5e92811da5d8f2f78e30411383e6285ca9a5b
   "metadata": {
    "hidden": true
   },
   "outputs": [
    {
     "data": {
      "text/html": [
       "<div>\n",
       "<style scoped>\n",
       "    .dataframe tbody tr th:only-of-type {\n",
       "        vertical-align: middle;\n",
       "    }\n",
       "\n",
       "    .dataframe tbody tr th {\n",
       "        vertical-align: top;\n",
       "    }\n",
       "\n",
       "    .dataframe thead th {\n",
       "        text-align: right;\n",
       "    }\n",
       "</style>\n",
       "<table border=\"1\" class=\"dataframe\">\n",
       "  <thead>\n",
       "    <tr style=\"text-align: right;\">\n",
       "      <th></th>\n",
       "      <th>user_id</th>\n",
       "      <th>last_day</th>\n",
       "      <th>is_gone</th>\n",
       "      <th>discovered</th>\n",
       "      <th>passed</th>\n",
       "      <th>started_attempt</th>\n",
       "      <th>viewed</th>\n",
       "      <th>correct</th>\n",
       "      <th>wrong</th>\n",
       "      <th>amount_days</th>\n",
       "      <th>passed_course</th>\n",
       "    </tr>\n",
       "  </thead>\n",
       "  <tbody>\n",
       "    <tr>\n",
       "      <th>0</th>\n",
       "      <td>1</td>\n",
       "      <td>1472827464</td>\n",
       "      <td>True</td>\n",
       "      <td>1</td>\n",
       "      <td>0</td>\n",
       "      <td>0</td>\n",
       "      <td>1</td>\n",
       "      <td>NaN</td>\n",
       "      <td>NaN</td>\n",
       "      <td>1</td>\n",
       "      <td>False</td>\n",
       "    </tr>\n",
       "    <tr>\n",
       "      <th>1</th>\n",
       "      <td>2</td>\n",
       "      <td>1519226966</td>\n",
       "      <td>True</td>\n",
       "      <td>9</td>\n",
       "      <td>9</td>\n",
       "      <td>2</td>\n",
       "      <td>10</td>\n",
       "      <td>2.0</td>\n",
       "      <td>0.0</td>\n",
       "      <td>2</td>\n",
       "      <td>False</td>\n",
       "    </tr>\n",
       "    <tr>\n",
       "      <th>2</th>\n",
       "      <td>3</td>\n",
       "      <td>1444581588</td>\n",
       "      <td>True</td>\n",
       "      <td>91</td>\n",
       "      <td>87</td>\n",
       "      <td>30</td>\n",
       "      <td>192</td>\n",
       "      <td>29.0</td>\n",
       "      <td>23.0</td>\n",
       "      <td>7</td>\n",
       "      <td>False</td>\n",
       "    </tr>\n",
       "    <tr>\n",
       "      <th>3</th>\n",
       "      <td>5</td>\n",
       "      <td>1499859939</td>\n",
       "      <td>True</td>\n",
       "      <td>11</td>\n",
       "      <td>11</td>\n",
       "      <td>4</td>\n",
       "      <td>12</td>\n",
       "      <td>2.0</td>\n",
       "      <td>2.0</td>\n",
       "      <td>2</td>\n",
       "      <td>False</td>\n",
       "    </tr>\n",
       "    <tr>\n",
       "      <th>4</th>\n",
       "      <td>7</td>\n",
       "      <td>1521634660</td>\n",
       "      <td>True</td>\n",
       "      <td>1</td>\n",
       "      <td>1</td>\n",
       "      <td>0</td>\n",
       "      <td>1</td>\n",
       "      <td>NaN</td>\n",
       "      <td>NaN</td>\n",
       "      <td>1</td>\n",
       "      <td>False</td>\n",
       "    </tr>\n",
       "  </tbody>\n",
       "</table>\n",
       "</div>"
      ],
      "text/plain": [
       "   user_id    last_day  is_gone  discovered  passed  started_attempt  viewed  \\\n",
       "0        1  1472827464     True           1       0                0       1   \n",
       "1        2  1519226966     True           9       9                2      10   \n",
       "2        3  1444581588     True          91      87               30     192   \n",
       "3        5  1499859939     True          11      11                4      12   \n",
       "4        7  1521634660     True           1       1                0       1   \n",
       "\n",
       "   correct  wrong  amount_days  passed_course  \n",
       "0      NaN    NaN            1          False  \n",
       "1      2.0    0.0            2          False  \n",
       "2     29.0   23.0            7          False  \n",
       "3      2.0    2.0            2          False  \n",
       "4      NaN    NaN            1          False  "
      ]
     },
     "execution_count": 34,
     "metadata": {},
     "output_type": "execute_result"
    }
   ],
   "source": [
    "users_data.head()"
   ]
  },
  {
   "cell_type": "markdown",
   "metadata": {
    "hidden": true
   },
   "source": [
    "Данные готовы, вот только нам нужно уметь предсказывать поведение пользователя по начальным действиям. Так что самое важное тут - посмотреть корелляции разных параметров, а также значения 'is_gone' и 'passed_course'."
   ]
  },
  {
   "cell_type": "markdown",
   "metadata": {
    "hidden": true
   },
   "source": [
    "# Готовим фичи для модели"
   ]
  },
  {
   "cell_type": "markdown",
   "metadata": {},
   "source": [
    "Для того, чтобы предсказывать на ранних этапах, закончит студент курс или нет, нужно отобрать данные по пользователю за его первые (например) 3 дня."
   ]
  },
  {
   "cell_type": "code",
<<<<<<< HEAD
   "execution_count": 105,
   "metadata": {},
=======
   "execution_count": 70,
   "metadata": {
    "hidden": true
   },
>>>>>>> bad5e92811da5d8f2f78e30411383e6285ca9a5b
   "outputs": [],
   "source": [
    "# Количество дней, за которые мы сможем предсказать поведение юзера\n",
    "learnin_time_thresold = 3 * 24 * 60 * 60"
   ]
  },
  {
<<<<<<< HEAD
   "cell_type": "code",
   "execution_count": 106,
   "metadata": {},
   "outputs": [
    {
     "data": {
      "text/plain": [
       "4"
      ]
     },
     "execution_count": 106,
     "metadata": {},
     "output_type": "execute_result"
    }
   ],
=======
   "cell_type": "markdown",
   "metadata": {
    "hidden": true
   },
>>>>>>> bad5e92811da5d8f2f78e30411383e6285ca9a5b
   "source": [
    "# Готовим event_data\n",
    "timestamp_data = event_df.groupby('user_id', as_index=False).timestamp.min() \\\n",
    "            .rename(columns={'timestamp': 'first_timestamp'})\n",
    "timestamp_data['learn_end_timestamp'] = timestamp_data.first_timestamp + learnin_time_thresold\n",
    "event_train = event_df.merge(timestamp_data, on='user_id', how='left')\n",
    "event_train = \\\n",
    "    event_train[event_train['timestamp'] < event_train['learn_end_timestamp']]\n",
    "event_train.groupby(['user_id']).date.nunique().max()"
   ]
  },
  {
   "cell_type": "code",
<<<<<<< HEAD
   "execution_count": 108,
   "metadata": {},
=======
   "execution_count": 115,
   "metadata": {
    "hidden": true,
    "scrolled": false
   },
>>>>>>> bad5e92811da5d8f2f78e30411383e6285ca9a5b
   "outputs": [
    {
     "data": {
      "text/plain": [
       "4"
      ]
     },
     "execution_count": 108,
     "metadata": {},
     "output_type": "execute_result"
    }
   ],
   "source": [
    "# Готовим submit_data\n",
    "timestamp_data = submissions_df.groupby('user_id', as_index=False).timestamp.min() \\\n",
    "    .rename(columns={'timestamp': 'first_timestamp'})\n",
    "timestamp_data['learn_end_timestamp'] = timestamp_data.first_timestamp + learnin_time_thresold\n",
    "submission_train = submissions_df.merge(timestamp_data, on='user_id', how='left')\n",
    "submission_train = \\\n",
    "    submission_train[submission_train['timestamp'] < submission_train['learn_end_timestamp']]\n",
    "submission_train.groupby(['user_id']).date.nunique().max()"
   ]
  },
  {
   "cell_type": "code",
<<<<<<< HEAD
   "execution_count": 122,
   "metadata": {},
=======
   "execution_count": null,
   "metadata": {
    "hidden": true
   },
>>>>>>> bad5e92811da5d8f2f78e30411383e6285ca9a5b
   "outputs": [],
   "source": [
    "X = users_data[['user_id', 'passed_course', 'is_gone']]\n",
    "\n",
    "# Количество правильных / неправильных ответов\n",
    "tmp = submission_train.groupby(['user_id', 'submission_status']).size() \\\n",
    "    .to_frame().reset_index() \\\n",
    "    .rename(columns={0: 'submits_number'})\n",
    "tmp = tmp.pivot(index='user_id', columns='submission_status', values='submits_number') \\\n",
    "    .rename(columns={'correct': 'correct_submit', 'wrong': 'wrong_submit'})\n",
    " \n",
    "X = X.merge(tmp, on='user_id', how='left').fillna(0)\n",
    "    \n",
    "# Отношение выполненых заданий ко всем\n",
    "X['correct_ratio'] = X.correct_submit / (X.correct_submit + X.wrong_submit)\n",
    "\n",
    "\n",
    "# Количество дней на курсе (max=4)\n",
    "tmp = event_train.groupby('user_id').date.nunique() \\\n",
    "    .to_frame().reset_index() \\\n",
    "    .rename(columns={'date': 'days'})\n",
    "X = X.merge(tmp, on='user_id', how='left').fillna(0)\n",
    "\n",
    "# Количесво просмотренных / пройденных / открытых / начатых стэпов\n",
    "tmp = event_train.groupby(['user_id', 'action']).size() \\\n",
    "    .to_frame().reset_index() \\\n",
    "    .rename(columns={0: 'actions_number'})\n",
    "tmp = tmp.pivot(index='user_id', columns='action', values='actions_number')\n",
    "tmp = tmp.rename(columns={col: f'{col}_action' for col in tmp.columns}).fillna(0)\n",
    "X = X.merge(tmp, on='user_id', how='left').fillna(0)\n",
    "\n",
    "# Никаких юзеров не потеряли!\n",
    "assert X.user_id.nunique() == event_df.user_id.nunique(), 'Всё хуйня, давай по новой'\n",
    "\n",
    "# Оставляем в Х только следующих студентов: те, которые прошли курс; те, которые курс не прошли и бросили его\n",
    "X = X[X.passed_course | X.is_gone]\n",
    "\n",
    "X = X.set_index('user_id')"
   ]
  },
  {
   "cell_type": "code",
   "execution_count": 123,
   "metadata": {},
   "outputs": [],
   "source": [
    "# На время анализа оставлю целевую переменную 'passed_course' в Х\n",
    "X = X.drop('is_gone', axis=1)\n",
    "X.passed_course = X.passed_course.astype(int)"
   ]
  },
  {
   "cell_type": "code",
   "execution_count": 114,
   "metadata": {},
   "outputs": [],
   "source": [
    "# Отделяем целевую переменную\n",
    "# y = X.passed_course.astype(int)\n",
    "# X = X.drop(columns=['passed_course', 'is_gone'])"
   ]
  },
  {
   "cell_type": "markdown",
   "metadata": {},
   "source": [
    "### Анализ датасета c фичами"
   ]
  },
  {
   "cell_type": "code",
   "execution_count": 124,
   "metadata": {
    "scrolled": true
   },
   "outputs": [
    {
     "data": {
      "text/html": [
       "<div>\n",
       "<style scoped>\n",
       "    .dataframe tbody tr th:only-of-type {\n",
       "        vertical-align: middle;\n",
       "    }\n",
       "\n",
       "    .dataframe tbody tr th {\n",
       "        vertical-align: top;\n",
       "    }\n",
       "\n",
       "    .dataframe thead th {\n",
       "        text-align: right;\n",
       "    }\n",
       "</style>\n",
       "<table border=\"1\" class=\"dataframe\">\n",
       "  <thead>\n",
       "    <tr style=\"text-align: right;\">\n",
       "      <th></th>\n",
       "      <th>passed_course</th>\n",
       "      <th>correct_submit</th>\n",
       "      <th>wrong_submit</th>\n",
       "      <th>correct_ratio</th>\n",
       "      <th>days</th>\n",
       "      <th>discovered_action</th>\n",
       "      <th>passed_action</th>\n",
       "      <th>started_attempt_action</th>\n",
       "      <th>viewed_action</th>\n",
       "    </tr>\n",
       "    <tr>\n",
       "      <th>user_id</th>\n",
       "      <th></th>\n",
       "      <th></th>\n",
       "      <th></th>\n",
       "      <th></th>\n",
       "      <th></th>\n",
       "      <th></th>\n",
       "      <th></th>\n",
       "      <th></th>\n",
       "      <th></th>\n",
       "    </tr>\n",
       "  </thead>\n",
       "  <tbody>\n",
       "    <tr>\n",
       "      <th>1</th>\n",
       "      <td>0</td>\n",
       "      <td>0.0</td>\n",
       "      <td>0.0</td>\n",
       "      <td>0.0</td>\n",
       "      <td>1</td>\n",
       "      <td>1.0</td>\n",
       "      <td>0.0</td>\n",
       "      <td>0.0</td>\n",
       "      <td>1.0</td>\n",
       "    </tr>\n",
       "    <tr>\n",
       "      <th>2</th>\n",
       "      <td>0</td>\n",
       "      <td>2.0</td>\n",
       "      <td>0.0</td>\n",
       "      <td>1.0</td>\n",
       "      <td>1</td>\n",
       "      <td>9.0</td>\n",
       "      <td>9.0</td>\n",
       "      <td>2.0</td>\n",
       "      <td>9.0</td>\n",
       "    </tr>\n",
       "    <tr>\n",
       "      <th>3</th>\n",
       "      <td>0</td>\n",
       "      <td>4.0</td>\n",
       "      <td>4.0</td>\n",
       "      <td>0.5</td>\n",
       "      <td>1</td>\n",
       "      <td>15.0</td>\n",
       "      <td>15.0</td>\n",
       "      <td>4.0</td>\n",
       "      <td>20.0</td>\n",
       "    </tr>\n",
       "    <tr>\n",
       "      <th>5</th>\n",
       "      <td>0</td>\n",
       "      <td>2.0</td>\n",
       "      <td>2.0</td>\n",
       "      <td>0.5</td>\n",
       "      <td>1</td>\n",
       "      <td>1.0</td>\n",
       "      <td>1.0</td>\n",
       "      <td>0.0</td>\n",
       "      <td>1.0</td>\n",
       "    </tr>\n",
       "    <tr>\n",
       "      <th>7</th>\n",
       "      <td>0</td>\n",
       "      <td>0.0</td>\n",
       "      <td>0.0</td>\n",
       "      <td>0.0</td>\n",
       "      <td>1</td>\n",
       "      <td>1.0</td>\n",
       "      <td>1.0</td>\n",
       "      <td>0.0</td>\n",
       "      <td>1.0</td>\n",
       "    </tr>\n",
       "  </tbody>\n",
       "</table>\n",
       "</div>"
      ],
      "text/plain": [
       "         passed_course  correct_submit  wrong_submit  correct_ratio  days  \\\n",
       "user_id                                                                     \n",
       "1                    0             0.0           0.0            0.0     1   \n",
       "2                    0             2.0           0.0            1.0     1   \n",
       "3                    0             4.0           4.0            0.5     1   \n",
       "5                    0             2.0           2.0            0.5     1   \n",
       "7                    0             0.0           0.0            0.0     1   \n",
       "\n",
       "         discovered_action  passed_action  started_attempt_action  \\\n",
       "user_id                                                             \n",
       "1                      1.0            0.0                     0.0   \n",
       "2                      9.0            9.0                     2.0   \n",
       "3                     15.0           15.0                     4.0   \n",
       "5                      1.0            1.0                     0.0   \n",
       "7                      1.0            1.0                     0.0   \n",
       "\n",
       "         viewed_action  \n",
       "user_id                 \n",
       "1                  1.0  \n",
       "2                  9.0  \n",
       "3                 20.0  \n",
       "5                  1.0  \n",
       "7                  1.0  "
      ]
     },
     "execution_count": 124,
     "metadata": {},
     "output_type": "execute_result"
    }
   ],
   "source": [
    "X.head()"
   ]
  },
  {
   "cell_type": "code",
   "execution_count": null,
   "metadata": {},
   "outputs": [],
   "source": []
  }
 ],
 "metadata": {
  "kernelspec": {
   "display_name": "Python 3",
   "language": "python",
   "name": "python3"
  },
  "language_info": {
   "codemirror_mode": {
    "name": "ipython",
    "version": 3
   },
   "file_extension": ".py",
   "mimetype": "text/x-python",
   "name": "python",
   "nbconvert_exporter": "python",
   "pygments_lexer": "ipython3",
   "version": "3.7.1"
  }
 },
 "nbformat": 4,
 "nbformat_minor": 2
}
